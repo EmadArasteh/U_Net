{
  "nbformat": 4,
  "nbformat_minor": 0,
  "metadata": {
    "colab": {
      "name": "U_net.ipynb",
      "provenance": [],
      "collapsed_sections": []
    },
    "kernelspec": {
      "name": "python3",
      "display_name": "Python 3"
    },
    "language_info": {
      "name": "python"
    }
  },
  "cells": [
    {
      "cell_type": "code",
      "metadata": {
        "id": "liAnOshO1Ohe"
      },
      "source": [
        "import numpy as np\n",
        "from skimage import io\n",
        "from skimage import transform as trans\n",
        "from keras.preprocessing.image import ImageDataGenerator\n",
        "from keras.layers import Flatten, Dense, MaxPooling2D, Dropout\n",
        "from keras.layers import Conv2D, UpSampling2D, concatenate, Input, BatchNormalization\n",
        "from keras.models import Model\n",
        "from tensorflow.keras.optimizers import Adam\n",
        "from tensorflow.keras.utils import plot_model\n",
        "from keras.callbacks import ModelCheckpoint, LearningRateScheduler\n"
      ],
      "execution_count": null,
      "outputs": []
    },
    {
      "cell_type": "code",
      "metadata": {
        "id": "SEmMYOqP5HnR"
      },
      "source": [
        "def adjust_data(img, mask):\n",
        "    img=img/255\n",
        "    mask=mask/255\n",
        "    mask[mask>0.5] = 1\n",
        "    mask[mask<=0.5] = 0\n",
        "    return img, mask\n",
        "    "
      ],
      "execution_count": null,
      "outputs": []
    },
    {
      "cell_type": "code",
      "metadata": {
        "id": "XR_oE_E16OXD"
      },
      "source": [
        "def get_train_generator(batch_size,\n",
        "                        train_path,\n",
        "                        image_folder,\n",
        "                        mask_folder,\n",
        "                        aug_dict,\n",
        "                        image_color_mode=\"grayscale\",\n",
        "                        mask_color_mode=\"grayscale\",\n",
        "                        image_save_prefix=\"image\",\n",
        "                        mask_save_prefix=\"mask\",\n",
        "                        save_to_dir=None,\n",
        "                        target_size=(256,256),\n",
        "                        seed=1):\n",
        "    image_datagen= ImageDataGenerator(**aug_dict)\n",
        "    mask_datagen= ImageDataGenerator(**aug_dict)\n",
        "    image_generator=image_datagen.flow_from_directory(\n",
        "        train_path,\n",
        "        classes=[image_folder],\n",
        "        class_mode=None,\n",
        "        color_mode=image_color_mode,\n",
        "        target_size=target_size,\n",
        "        batch_size=batch_size,\n",
        "        save_to_dir=save_to_dir,\n",
        "        save_prefix=image_save_prefix,\n",
        "        seed=seed\n",
        "    )\n",
        "    mask_generator=mask_datagen.flow_from_directory(\n",
        "        train_path,\n",
        "        classes=[mask_folder],\n",
        "        class_mode=None,\n",
        "        color_mode=image_color_mode,\n",
        "        target_size=target_size,\n",
        "        save_to_dir=save_to_dir,\n",
        "        save_prefix=mask_save_prefix,\n",
        "        seed=seed\n",
        "\n",
        "    )\n",
        "    for(img,mask) in zip(image_generator,mask_generator):\n",
        "      img,mask=adjust_data(img, mask)\n",
        "      yield img, mask\n",
        "  "
      ],
      "execution_count": null,
      "outputs": []
    },
    {
      "cell_type": "code",
      "metadata": {
        "id": "JLgPI3jj-KbA"
      },
      "source": [
        "def get_test_generator(test_path, num_images=30, target_size=(256,256), as_gray=True):\n",
        "    for i in range(num_images):\n",
        "        img = io.imread(os.path.join(test_path, f\"(i).png\"), as_gray=as_gray)\n",
        "        img=img/255\n",
        "        img=transform.resize(img, target_size)\n",
        "        img=np.reshape(img, (1,) +img.shape +(1,))\n",
        "        yield img"
      ],
      "execution_count": null,
      "outputs": []
    },
    {
      "cell_type": "code",
      "metadata": {
        "colab": {
          "base_uri": "https://localhost:8080/"
        },
        "id": "9R4nUvQD_aeA",
        "outputId": "281ee1b2-dc64-4d1a-b38e-e5c6eb2729b2"
      },
      "source": [
        "data_gen_args = dict(rotation_range=0.2,\n",
        "                    width_shift_range=0.05,\n",
        "                    height_shift_range=0.05,\n",
        "                    shear_range=0.05,\n",
        "                    zoom_range=0.05,\n",
        "                    horizontal_flip=True,\n",
        "                    fill_mode='nearest')\n",
        "generator= get_train_generator(batch_size=20,\n",
        "                               train_path='./data/membrane/train',\n",
        "                               image_folder='image',\n",
        "                               mask_folder='label',\n",
        "                               aug_dict=data_gen_args,\n",
        "                               save_to_dir =\"./data/membrane/train/aug\")\n",
        "num_batch = 3\n",
        "for i, batch in enumerate(generator):\n",
        "    if i >= num_batch:\n",
        "        break\n"
      ],
      "execution_count": null,
      "outputs": [
        {
          "output_type": "stream",
          "text": [
            "Found 0 images belonging to 1 classes.\n",
            "Found 0 images belonging to 1 classes.\n"
          ],
          "name": "stdout"
        }
      ]
    },
    {
      "cell_type": "code",
      "metadata": {
        "id": "k11VtDXxBQNg"
      },
      "source": [
        "#create model\n",
        "\n",
        "def unet(pretrained_weights = None,input_shape = (256,256,1)):\n",
        "    inputs = Input(input_size)\n",
        "    conv1 = Conv2D(64, 3, activation = 'relu', padding = 'same', kernel_initializer = 'he_normal')(inputs)\n",
        "    conv1 = Conv2D(64, 3, activation = 'relu', padding = 'same', kernel_initializer = 'he_normal')(conv1)\n",
        "    pool1 = MaxPooling2D(pool_size=(2, 2))(conv1)\n",
        "    conv2 = Conv2D(128, 3, activation = 'relu', padding = 'same', kernel_initializer = 'he_normal')(pool1)\n",
        "    conv2 = Conv2D(128, 3, activation = 'relu', padding = 'same', kernel_initializer = 'he_normal')(conv2)\n",
        "    pool2 = MaxPooling2D(pool_size=(2, 2))(conv2)\n",
        "    conv3 = Conv2D(256, 3, activation = 'relu', padding = 'same', kernel_initializer = 'he_normal')(pool2)\n",
        "    conv3 = Conv2D(256, 3, activation = 'relu', padding = 'same', kernel_initializer = 'he_normal')(conv3)\n",
        "    pool3 = MaxPooling2D(pool_size=(2, 2))(conv3)\n",
        "    conv4 = Conv2D(512, 3, activation = 'relu', padding = 'same', kernel_initializer = 'he_normal')(pool3)\n",
        "    conv4 = Conv2D(512, 3, activation = 'relu', padding = 'same', kernel_initializer = 'he_normal')(conv4)\n",
        "    drop4 = Dropout(0.5)(conv4)\n",
        "    pool4 = MaxPooling2D(pool_size=(2, 2))(drop4)\n",
        "\n",
        "    conv5 = Conv2D(1024, 3, activation = 'relu', padding = 'same', kernel_initializer = 'he_normal')(pool4)\n",
        "    conv5 = Conv2D(1024, 3, activation = 'relu', padding = 'same', kernel_initializer = 'he_normal')(conv5)\n",
        "    drop5 = Dropout(0.5)(conv5)\n",
        "\n",
        "    up6 = Conv2D(512, 2, activation = 'relu', padding = 'same', kernel_initializer = 'he_normal')(UpSampling2D(size = (2,2))(drop5))\n",
        "    merge6 = concatenate([drop4,up6], axis = 3)\n",
        "    conv6 = Conv2D(512, 3, activation = 'relu', padding = 'same', kernel_initializer = 'he_normal')(merge6)\n",
        "    conv6 = Conv2D(512, 3, activation = 'relu', padding = 'same', kernel_initializer = 'he_normal')(conv6)\n",
        "\n",
        "    up7 = Conv2D(256, 2, activation = 'relu', padding = 'same', kernel_initializer = 'he_normal')(UpSampling2D(size = (2,2))(conv6))\n",
        "    merge7 = concatenate([conv3,up7], axis = 3)\n",
        "    conv7 = Conv2D(256, 3, activation = 'relu', padding = 'same', kernel_initializer = 'he_normal')(merge7)\n",
        "    conv7 = Conv2D(256, 3, activation = 'relu', padding = 'same', kernel_initializer = 'he_normal')(conv7)\n",
        "\n",
        "    up8 = Conv2D(128, 2, activation = 'relu', padding = 'same', kernel_initializer = 'he_normal')(UpSampling2D(size = (2,2))(conv7))\n",
        "    merge8 = concatenate([conv2,up8], axis = 3)\n",
        "    conv8 = Conv2D(128, 3, activation = 'relu', padding = 'same', kernel_initializer = 'he_normal')(merge8)\n",
        "    conv8 = Conv2D(128, 3, activation = 'relu', padding = 'same', kernel_initializer = 'he_normal')(conv8)\n",
        "\n",
        "    up9 = Conv2D(64, 2, activation = 'relu', padding = 'same', kernel_initializer = 'he_normal')(UpSampling2D(size = (2,2))(conv8))\n",
        "    merge9 = concatenate([conv1,up9], axis = 3)\n",
        "    conv9 = Conv2D(64, 3, activation = 'relu', padding = 'same', kernel_initializer = 'he_normal')(merge9)\n",
        "    conv9 = Conv2D(64, 3, activation = 'relu', padding = 'same', kernel_initializer = 'he_normal')(conv9)\n",
        "    conv9 = Conv2D(2, 3, activation = 'relu', padding = 'same', kernel_initializer = 'he_normal')(conv9)\n",
        "    conv10 = Conv2D(1, 1, activation = 'sigmoid')(conv9)\n",
        "\n",
        "    model = Model(input = inputs, output = conv10)\n",
        "\n",
        "    model.compile(optimizer = Adam(lr = 1e-4), loss = 'binary_crossentropy', metrics = ['accuracy'])\n",
        "    \n",
        "    #model.summary()\n",
        "\n",
        "    if(pretrained_weights):\n",
        "    \tmodel.load_weights(pretrained_weights)\n",
        "\n",
        "    return model"
      ],
      "execution_count": null,
      "outputs": []
    },
    {
      "cell_type": "code",
      "metadata": {
        "id": "j9-s2dAQHRd2"
      },
      "source": [
        "dat_gen_args=dict(rotation_range=0.2,\n",
        "                    width_shift_range=0.05,\n",
        "                    height_shift_range=0.05,\n",
        "                    shear_range=0.05,\n",
        "                    zoom_range=0.05,\n",
        "                    horizontal_flip=True,\n",
        "                    fill_mode='nearest')\n",
        "generator= get_train_generator(batch_size=2,\n",
        "                               train_path='./data/membrane/train',\n",
        "                               image_folder='image',\n",
        "                               mask_folder='label',\n",
        "                               aug_dict=data_gen_args,\n",
        "                               save_to_dir = None)\n",
        "model=unet()\n"
      ],
      "execution_count": null,
      "outputs": []
    },
    {
      "cell_type": "code",
      "metadata": {
        "id": "7aefhb6GqHL7"
      },
      "source": [
        "\n",
        "model_checkpoint = ModelCheckpoint('unet_membrane.hdf5', monitor='loss',verbose=1, save_best_only=True)\n",
        "model.fit_generator(generator,steps_per_epoch=2000,epochs=5,callbacks=[model_checkpoint])"
      ],
      "execution_count": null,
      "outputs": []
    },
    {
      "cell_type": "code",
      "metadata": {
        "id": "hciQRMNUrA5k"
      },
      "source": [
        "testGene = get_test_generator(\"data/membrane/test\")\n",
        "model = unet()\n",
        "model.load_weights(\"unet_membrane.hdf5\")\n",
        "results = model.predict_generator(testGene,30,verbose=1)\n",
        "saveResult(\"data/membrane/test\",results)"
      ],
      "execution_count": null,
      "outputs": []
    }
  ]
}